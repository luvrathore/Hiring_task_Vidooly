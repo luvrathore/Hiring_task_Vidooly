{
 "cells": [
  {
   "cell_type": "code",
   "execution_count": 1,
   "metadata": {
    "scrolled": false
   },
   "outputs": [
    {
     "name": "stdout",
     "output_type": "stream",
     "text": [
      "C:\\Users\\Luv Rathore\\Desktop\\vidooly\n"
     ]
    }
   ],
   "source": [
    "cd C:\\Users\\Luv Rathore\\Desktop\\vidooly"
   ]
  },
  {
   "cell_type": "code",
   "execution_count": 2,
   "metadata": {},
   "outputs": [],
   "source": [
    "import numpy as np\n",
    "import matplotlib.pyplot as plt\n",
    "import pandas as pd\n",
    "from sklearn.preprocessing import OneHotEncoder\n",
    "#from keras.utils import to_categorical"
   ]
  },
  {
   "cell_type": "code",
   "execution_count": 3,
   "metadata": {},
   "outputs": [],
   "source": [
    "from sklearn.tree import DecisionTreeClassifier\n",
    "from sklearn.model_selection import cross_val_score\n",
    "from sklearn import metrics\n",
    "from sklearn import preprocessing\n",
    "from sklearn.metrics import mean_squared_error,mean_absolute_error\n",
    "from sklearn.model_selection import GridSearchCV\n",
    "from sklearn.ensemble import RandomForestClassifier,RandomForestRegressor\n",
    "from datetime import datetime\n",
    "from sklearn.model_selection import train_test_split"
   ]
  },
  {
   "cell_type": "code",
   "execution_count": 4,
   "metadata": {},
   "outputs": [
    {
     "name": "stderr",
     "output_type": "stream",
     "text": [
      "C:\\Users\\Luv Rathore\\Anaconda3\\lib\\site-packages\\sklearn\\cross_validation.py:41: DeprecationWarning: This module was deprecated in version 0.18 in favor of the model_selection module into which all the refactored classes and functions are moved. Also note that the interface of the new CV iterators are different from that of this module. This module will be removed in 0.20.\n",
      "  \"This module will be removed in 0.20.\", DeprecationWarning)\n",
      "C:\\Users\\Luv Rathore\\Anaconda3\\lib\\site-packages\\sklearn\\grid_search.py:42: DeprecationWarning: This module was deprecated in version 0.18 in favor of the model_selection module into which all the refactored classes and functions are moved. This module will be removed in 0.20.\n",
      "  DeprecationWarning)\n"
     ]
    }
   ],
   "source": [
    "import xgboost as xgb\n",
    "from xgboost.sklearn import XGBClassifier,XGBRegressor\n",
    "from sklearn import cross_validation, metrics   #Additional scklearn functions\n",
    "from sklearn.grid_search import GridSearchCV   #Perforing grid search\n"
   ]
  },
  {
   "cell_type": "code",
   "execution_count": 5,
   "metadata": {},
   "outputs": [],
   "source": [
    "def Null_count(data) :\n",
    "    print(data.apply(lambda x: sum(x.isnull()),axis=0))\n",
    "def Unique_val(data): \n",
    "    print(data.apply(lambda x: len(x.unique())))\n",
    "def sigmoid(x):\n",
    "     return (1 / (1 + np.exp(-x)))"
   ]
  },
  {
   "cell_type": "code",
   "execution_count": 6,
   "metadata": {},
   "outputs": [],
   "source": [
    "train = pd.read_csv('ad_org_train.csv')\n",
    "test = pd.read_csv('ad_org_test.csv')"
   ]
  },
  {
   "cell_type": "code",
   "execution_count": 7,
   "metadata": {},
   "outputs": [],
   "source": [
    "train['views'] = pd.to_numeric(train['views'].replace('F',np.nan))\n",
    "train['likes'] = pd.to_numeric(train['likes'].replace('F',np.nan))\n",
    "train['dislikes'] = pd.to_numeric(train['dislikes'].replace('F',np.nan))\n",
    "train['comment'] = pd.to_numeric(train['comment'].replace('F',np.nan))"
   ]
  },
  {
   "cell_type": "code",
   "execution_count": 8,
   "metadata": {},
   "outputs": [],
   "source": [
    "new = train['duration'].str.split(\"PT\",n=1,expand = True)\n",
    "\n",
    "train['duration'] = new[1]\n",
    "\n",
    "newh = train['duration'].str.split(\"H\",n=2,expand = True)\n",
    "\n",
    "train['hour'] = np.nan\n",
    "\n",
    "list1 = [];\n",
    "for i in range(0,len(newh[1])):\n",
    "    if (newh[1][i] != None): \n",
    "        list1.append(newh[0][i]);\n",
    "    else :\n",
    "        list1.append(0);\n",
    "\n",
    "train['hour'] = list1\n",
    "\n",
    "for i in range(0,len(newh[1])):\n",
    "    if newh[1][i] == None :\n",
    "        newh[1][i] = newh[0][i];\n",
    "    else :\n",
    "        continue;\n",
    "\n",
    "newm = newh[1].str.split(\"M\",n=0,expand = True)\n",
    "\n",
    "train['min'] = np.nan;\n",
    "list2 = [];\n",
    "for i in range(0,len(newm[0])):\n",
    "    if \"S\" in newm[0][i]:\n",
    "        list2.append(0);\n",
    "    else :\n",
    "        list2.append(newm[0][i]);\n",
    "\n",
    "train['min'] = list2;\n",
    "#newm[0].str.contains('S',regex = False)\n",
    "\n",
    "for i in range(0,len(newm[1])):\n",
    "    if newm[1][i] == None :\n",
    "        newm[1][i] = newm[0][i];\n",
    "    else :\n",
    "        continue;\n",
    "\n",
    "news = newm[1].str.split(\"S\",n=0,expand = True)\n",
    "train['sec'] = np.nan;\n",
    "train['sec'] = news;"
   ]
  },
  {
   "cell_type": "code",
   "execution_count": 9,
   "metadata": {},
   "outputs": [],
   "source": [
    "train['hour'] = pd.to_numeric(train['hour'])\n",
    "train['min'] = pd.to_numeric(train['min'])\n",
    "train['sec'] = pd.to_numeric(train['sec'])\n",
    "train['sec'] = train['sec'].fillna(0)\n",
    "\n",
    "train['duration'] = 3600*train['hour']+60*train['min']+train['sec']"
   ]
  },
  {
   "cell_type": "code",
   "execution_count": 10,
   "metadata": {},
   "outputs": [],
   "source": [
    "#train['category'].unique().tolist()\n",
    "encode = {'category':{'A': 1,'B':2,'C':3,'D':4,'E':5,'F':6,'G':7,'H':8}}\n",
    "train.replace(encode,inplace = True)\n",
    "\n",
    "#train['period'] = (pd.to_datetime(train['published']) - pd.to_datetime(train['published']).min()).dt.days\n",
    "train['period'] = (pd.to_datetime(train['published']).dt.year - pd.to_datetime(train['published']).dt.year.min())\n",
    "\n",
    "train = train.drop(columns=['hour','min','sec','vidid','published'])"
   ]
  },
  {
   "cell_type": "code",
   "execution_count": 11,
   "metadata": {},
   "outputs": [
    {
     "name": "stderr",
     "output_type": "stream",
     "text": [
      "C:\\Users\\Luv Rathore\\Anaconda3\\lib\\site-packages\\ipykernel_launcher.py:33: SettingWithCopyWarning: \n",
      "A value is trying to be set on a copy of a slice from a DataFrame\n",
      "\n",
      "See the caveats in the documentation: http://pandas.pydata.org/pandas-docs/stable/indexing.html#indexing-view-versus-copy\n",
      "C:\\Users\\Luv Rathore\\Anaconda3\\lib\\site-packages\\ipykernel_launcher.py:33: SettingWithCopyWarning: \n",
      "A value is trying to be set on a copy of a slice from a DataFrame\n",
      "\n",
      "See the caveats in the documentation: http://pandas.pydata.org/pandas-docs/stable/indexing.html#indexing-view-versus-copy\n",
      "C:\\Users\\Luv Rathore\\Anaconda3\\lib\\site-packages\\ipykernel_launcher.py:33: SettingWithCopyWarning: \n",
      "A value is trying to be set on a copy of a slice from a DataFrame\n",
      "\n",
      "See the caveats in the documentation: http://pandas.pydata.org/pandas-docs/stable/indexing.html#indexing-view-versus-copy\n",
      "C:\\Users\\Luv Rathore\\Anaconda3\\lib\\site-packages\\ipykernel_launcher.py:33: SettingWithCopyWarning: \n",
      "A value is trying to be set on a copy of a slice from a DataFrame\n",
      "\n",
      "See the caveats in the documentation: http://pandas.pydata.org/pandas-docs/stable/indexing.html#indexing-view-versus-copy\n"
     ]
    }
   ],
   "source": [
    "array = ['views','likes','dislikes','comment']\n",
    "\n",
    "for col in array :\n",
    "    temp = train[train[col].notnull()]\n",
    "    \n",
    "    X_temp = temp.loc[:, temp.columns != col]\n",
    "    Y_temp = temp[col]\n",
    "\n",
    "    temp2 = train[train[col].isnull()]\n",
    "    X_temp2 = temp2.loc[:, temp2.columns != col]\n",
    "\n",
    "    model = XGBRegressor()\n",
    "    model.fit(X_temp, Y_temp)\n",
    "\n",
    "\n",
    "    output = model.predict(data=X_temp2)\n",
    "    for i in range(0,len(output)) :\n",
    "        if output[i] < 0 :\n",
    "            output[i] = 0;\n",
    "        else :\n",
    "            continue;\n",
    "    output = output.astype(int)\n",
    "\n",
    "    \n",
    "    add = [];\n",
    "    for i in range(0,len(train[col])):\n",
    "        if train[col].isnull()[i] == True :\n",
    "            add.append(i);\n",
    "        else :\n",
    "            continue;\n",
    "\n",
    "    for i in range(0,len(add)):\n",
    "        train[col][add[i]] = output[i]     "
   ]
  },
  {
   "cell_type": "code",
   "execution_count": 12,
   "metadata": {},
   "outputs": [],
   "source": [
    "test_id = test['vidid']"
   ]
  },
  {
   "cell_type": "code",
   "execution_count": 13,
   "metadata": {},
   "outputs": [],
   "source": [
    "test['views'] = pd.to_numeric(test['views'].replace('F',np.nan))\n",
    "test['likes'] = pd.to_numeric(test['likes'].replace('F',np.nan))\n",
    "test['dislikes'] = pd.to_numeric(test['dislikes'].replace('F',np.nan))\n",
    "test['comment'] = pd.to_numeric(test['comment'].replace('F',np.nan))"
   ]
  },
  {
   "cell_type": "code",
   "execution_count": 14,
   "metadata": {},
   "outputs": [],
   "source": [
    "new = test['duration'].str.split(\"PT\",n=1,expand = True)\n",
    "\n",
    "test['duration'] = new[1]\n",
    "\n",
    "newh = test['duration'].str.split(\"H\",n=2,expand = True)\n",
    "\n",
    "test['hour'] = np.nan\n",
    "\n",
    "list1 = [];\n",
    "for i in range(0,len(newh[1])):\n",
    "    if (newh[1][i] != None): \n",
    "        list1.append(newh[0][i]);\n",
    "    else :\n",
    "        list1.append(0);\n",
    "\n",
    "test['hour'] = list1\n",
    "\n",
    "for i in range(0,len(newh[1])):\n",
    "    if newh[1][i] == None :\n",
    "        newh[1][i] = newh[0][i];\n",
    "    else :\n",
    "        continue;\n",
    "\n",
    "newm = newh[1].str.split(\"M\",n=0,expand = True)\n",
    "\n",
    "test['min'] = np.nan;\n",
    "list2 = [];\n",
    "for i in range(0,len(newm[0])):\n",
    "    if \"S\" in newm[0][i]:\n",
    "        list2.append(0);\n",
    "    else :\n",
    "        list2.append(newm[0][i]);\n",
    "\n",
    "test['min'] = list2;\n",
    "#newm[0].str.contains('S',regex = False)\n",
    "\n",
    "for i in range(0,len(newm[1])):\n",
    "    if newm[1][i] == None :\n",
    "        newm[1][i] = newm[0][i];\n",
    "    else :\n",
    "        continue;\n",
    "\n",
    "news = newm[1].str.split(\"S\",n=0,expand = True)\n",
    "test['sec'] = np.nan;\n",
    "test['sec'] = news;"
   ]
  },
  {
   "cell_type": "code",
   "execution_count": 15,
   "metadata": {},
   "outputs": [],
   "source": [
    "test['hour'] = pd.to_numeric(test['hour'])\n",
    "test['min'] = pd.to_numeric(test['min'])\n",
    "test['sec'] = pd.to_numeric(test['sec'])\n",
    "test['sec'] = test['sec'].fillna(0);\n",
    "\n",
    "test['duration'] = 3600*test['hour']+60*test['min']+test['sec']"
   ]
  },
  {
   "cell_type": "code",
   "execution_count": 16,
   "metadata": {},
   "outputs": [],
   "source": [
    "encode = {'category':{'A':1,'B':2,'C':3,'D':4,'E':5,'F':6,'G':7,'H':8}}\n",
    "test.replace(encode,inplace = True)\n",
    "\n",
    "test['period'] = (pd.to_datetime(test['published']).dt.year - pd.to_datetime(test['published']).dt.year.min())\n",
    "test = test.drop(columns=['hour','min','sec','published','vidid'])"
   ]
  },
  {
   "cell_type": "code",
   "execution_count": 17,
   "metadata": {},
   "outputs": [
    {
     "name": "stderr",
     "output_type": "stream",
     "text": [
      "C:\\Users\\Luv Rathore\\Anaconda3\\lib\\site-packages\\ipykernel_launcher.py:32: SettingWithCopyWarning: \n",
      "A value is trying to be set on a copy of a slice from a DataFrame\n",
      "\n",
      "See the caveats in the documentation: http://pandas.pydata.org/pandas-docs/stable/indexing.html#indexing-view-versus-copy\n",
      "C:\\Users\\Luv Rathore\\Anaconda3\\lib\\site-packages\\ipykernel_launcher.py:32: SettingWithCopyWarning: \n",
      "A value is trying to be set on a copy of a slice from a DataFrame\n",
      "\n",
      "See the caveats in the documentation: http://pandas.pydata.org/pandas-docs/stable/indexing.html#indexing-view-versus-copy\n",
      "C:\\Users\\Luv Rathore\\Anaconda3\\lib\\site-packages\\ipykernel_launcher.py:32: SettingWithCopyWarning: \n",
      "A value is trying to be set on a copy of a slice from a DataFrame\n",
      "\n",
      "See the caveats in the documentation: http://pandas.pydata.org/pandas-docs/stable/indexing.html#indexing-view-versus-copy\n",
      "C:\\Users\\Luv Rathore\\Anaconda3\\lib\\site-packages\\ipykernel_launcher.py:32: SettingWithCopyWarning: \n",
      "A value is trying to be set on a copy of a slice from a DataFrame\n",
      "\n",
      "See the caveats in the documentation: http://pandas.pydata.org/pandas-docs/stable/indexing.html#indexing-view-versus-copy\n"
     ]
    }
   ],
   "source": [
    "array = ['views','likes','dislikes','comment']\n",
    "\n",
    "for col in array :\n",
    "    temp = test[test[col].notnull()]\n",
    "    X_temp = temp.loc[:, temp.columns != col]\n",
    "    Y_temp = temp[col]\n",
    "\n",
    "    temp2 = test[test[col].isnull()]\n",
    "    X_temp2 = temp2.loc[:, temp2.columns != col]\n",
    "\n",
    "    model = XGBRegressor()\n",
    "    model.fit(X_temp, Y_temp)\n",
    "\n",
    "\n",
    "    output = model.predict(data=X_temp2)\n",
    "    for i in range(0,len(output)) :\n",
    "        if output[i] < 0 :\n",
    "            output[i] = 0;\n",
    "        else :\n",
    "            continue;\n",
    "    output = output.astype(int)\n",
    "\n",
    "    \n",
    "    add = [];\n",
    "    for i in range(0,len(test[col])):\n",
    "        if test[col].isnull()[i] == True :\n",
    "            add.append(i);\n",
    "        else :\n",
    "            continue;\n",
    "\n",
    "    for i in range(0,len(add)):\n",
    "        test[col][add[i]] = output[i]     "
   ]
  },
  {
   "cell_type": "code",
   "execution_count": 18,
   "metadata": {},
   "outputs": [],
   "source": [
    "train['var1'] = train['likes']-train['dislikes']\n",
    "test['var1'] = test['likes']-test['dislikes']"
   ]
  },
  {
   "cell_type": "code",
   "execution_count": 19,
   "metadata": {},
   "outputs": [],
   "source": [
    "X_train = train.loc[:, train.columns != 'adview']\n",
    "Y_train = train['adview']"
   ]
  },
  {
   "cell_type": "code",
   "execution_count": 20,
   "metadata": {},
   "outputs": [],
   "source": [
    "model = RandomForestRegressor(n_estimators=200, max_depth=15,criterion='mse',n_jobs=-1,min_samples_leaf = 5,min_samples_split=10)"
   ]
  },
  {
   "cell_type": "code",
   "execution_count": 21,
   "metadata": {},
   "outputs": [
    {
     "data": {
      "text/plain": [
       "RandomForestRegressor(bootstrap=True, criterion='mse', max_depth=15,\n",
       "           max_features='auto', max_leaf_nodes=None,\n",
       "           min_impurity_decrease=0.0, min_impurity_split=None,\n",
       "           min_samples_leaf=5, min_samples_split=10,\n",
       "           min_weight_fraction_leaf=0.0, n_estimators=200, n_jobs=-1,\n",
       "           oob_score=False, random_state=None, verbose=0, warm_start=False)"
      ]
     },
     "execution_count": 21,
     "metadata": {},
     "output_type": "execute_result"
    }
   ],
   "source": [
    "model.fit(X_train,Y_train)"
   ]
  },
  {
   "cell_type": "code",
   "execution_count": 22,
   "metadata": {},
   "outputs": [],
   "source": [
    "predicted = model.predict(test)"
   ]
  },
  {
   "cell_type": "code",
   "execution_count": 23,
   "metadata": {},
   "outputs": [],
   "source": [
    "test['vidid'] = test_id\n",
    "test['adview'] = predicted.astype(int)\n"
   ]
  },
  {
   "cell_type": "code",
   "execution_count": 24,
   "metadata": {},
   "outputs": [],
   "source": [
    "test[['vidid','adview']].to_csv('prediction.csv',index=False)"
   ]
  },
  {
   "cell_type": "code",
   "execution_count": null,
   "metadata": {},
   "outputs": [],
   "source": []
  },
  {
   "cell_type": "code",
   "execution_count": 137,
   "metadata": {},
   "outputs": [
    {
     "name": "stdout",
     "output_type": "stream",
     "text": [
      "1\n",
      "523932116.5426667\n",
      "2767.5406666666668\n"
     ]
    }
   ],
   "source": [
    "# train_x,test_x,train_y,test_y = train_test_split(X_train,Y_train, test_size = 0.20)\n",
    "\n",
    "# model1 =  RandomForestRegressor(n_estimators=200, max_depth=15,criterion='mse',n_jobs=-1,min_samples_leaf = 5,min_samples_split=10)\n",
    "# model1.fit(train_x,train_y)\n",
    "\n",
    "\n",
    "# output = model1.predict(test_x)\n",
    "# output = output.astype(int)\n",
    "# print(output.min())\n",
    "\n",
    "# print(mean_squared_error(test_y,output))\n",
    "# print(mean_absolute_error(test_y,output))"
   ]
  },
  {
   "cell_type": "code",
   "execution_count": 56,
   "metadata": {},
   "outputs": [
    {
     "data": {
      "image/png": "[encoded data removed]",
      "text/plain": [
       "<matplotlib.figure.Figure at 0x16663592dd8>"
      ]
     },
     "metadata": {},
     "output_type": "display_data"
    },
    {
     "data": {
      "text/plain": [
       "<matplotlib.figure.Figure at 0x16664f6b400>"
      ]
     },
     "metadata": {},
     "output_type": "display_data"
    }
   ],
   "source": []
  }
 ],
 "metadata": {
  "kernelspec": {
   "display_name": "Python 3",
   "language": "python",
   "name": "python3"
  },
  "language_info": {
   "codemirror_mode": {
    "name": "ipython",
    "version": 3
   },
   "file_extension": ".py",
   "mimetype": "text/x-python",
   "name": "python",
   "nbconvert_exporter": "python",
   "pygments_lexer": "ipython3",
   "version": "3.6.4"
  }
 },
 "nbformat": 4,
 "nbformat_minor": 2
}
